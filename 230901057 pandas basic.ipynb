{
 "cells": [
  {
   "cell_type": "code",
   "execution_count": 4,
   "id": "5f68573f",
   "metadata": {},
   "outputs": [
    {
     "name": "stdout",
     "output_type": "stream",
     "text": [
      "Empty DataFrame\n",
      "Columns: []\n",
      "Index: []\n"
     ]
    }
   ],
   "source": [
    "import pandas as pd\n",
    "df=pd.DataFrame()\n",
    "print(df)"
   ]
  },
  {
   "cell_type": "code",
   "execution_count": 17,
   "id": "e70e7d38",
   "metadata": {},
   "outputs": [
    {
     "name": "stdout",
     "output_type": "stream",
     "text": [
      "\n",
      "Series to Data frame\n",
      "\n",
      "      Emp  Id\n",
      "0     uma  10\n",
      "1    siva  20\n",
      "2  sindhu  30\n",
      "3    rare  40\n",
      "\n",
      " ExtractingOneColum\n",
      "\n",
      "0       uma\n",
      "1      siva\n",
      "2    sindhu\n",
      "3      rare\n",
      "Name: Emp, dtype: object\n",
      "      Emp  Id  Age\n",
      "0     uma  10   20\n",
      "1    siva  20   25\n",
      "2  sindhu  30   30\n",
      "3    rare  40   35\n",
      "      Emp  Id\n",
      "0     uma  10\n",
      "1    siva  20\n",
      "2  sindhu  30\n",
      "3    rare  40\n",
      "\n",
      " Extracting the second row\n",
      "\n",
      "Emp    siva\n",
      "Id       20\n",
      "Name: 1, dtype: object\n"
     ]
    }
   ],
   "source": [
    "import pandas as pd\n",
    "emp=pd.Series(['uma','siva','sindhu','rare'])\n",
    "id=pd.Series([10,20,30,40])\n",
    "Frame={'Emp':emp,'Id':id}\n",
    "result=pd.DataFrame(Frame)\n",
    "print(\"\\nSeries to Data frame\\n\")\n",
    "print(result)\n",
    "print(\"\\n ExtractingOneColum\\n\")\n",
    "print(result['Emp'])\n",
    "result['Age']=pd.Series([20,25,30,35])\n",
    "print(result)\n",
    "del result['Age']\n",
    "print(result)\n",
    "print(\"\\n Extracting the second row\\n\")\n",
    "print(result.loc[1])"
   ]
  },
  {
   "cell_type": "code",
   "execution_count": 19,
   "id": "960fafbc",
   "metadata": {},
   "outputs": [
    {
     "name": "stdout",
     "output_type": "stream",
     "text": [
      "\n",
      " Adding new row values\n",
      "          Emp    Id    0\n",
      "0        uma  10.0  NaN\n",
      "1       siva  20.0  NaN\n",
      "2     sindhu  30.0  NaN\n",
      "3       rare  40.0  NaN\n",
      "jinu     NaN   NaN  anu\n",
      "19       NaN   NaN   20\n"
     ]
    }
   ],
   "source": [
    "d2=pd.DataFrame(['anu',20],['jinu',19])\n",
    "column=['Emp','ID']\n",
    "print(\"\\n Adding new row values\\n\",pd.concat([result,d2]))\n"
   ]
  },
  {
   "cell_type": "code",
   "execution_count": null,
   "id": "f62d59f5",
   "metadata": {},
   "outputs": [],
   "source": []
  }
 ],
 "metadata": {
  "kernelspec": {
   "display_name": "Python 3 (ipykernel)",
   "language": "python",
   "name": "python3"
  },
  "language_info": {
   "codemirror_mode": {
    "name": "ipython",
    "version": 3
   },
   "file_extension": ".py",
   "mimetype": "text/x-python",
   "name": "python",
   "nbconvert_exporter": "python",
   "pygments_lexer": "ipython3",
   "version": "3.11.4"
  }
 },
 "nbformat": 4,
 "nbformat_minor": 5
}
