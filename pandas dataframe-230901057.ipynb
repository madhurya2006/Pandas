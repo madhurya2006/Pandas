{
 "cells": [
  {
   "cell_type": "code",
   "execution_count": 1,
   "id": "a2fc2cfa",
   "metadata": {},
   "outputs": [
    {
     "name": "stdout",
     "output_type": "stream",
     "text": [
      "\n",
      " Original DataFrame:\n",
      "    S  R\n",
      "0  3  9\n",
      "1  3  9\n",
      "2  3  9\n",
      "3  3  9\n",
      "\n",
      " square root:\n",
      "           S    R\n",
      "0  1.732051  3.0\n",
      "1  1.732051  3.0\n",
      "2  1.732051  3.0\n",
      "3  1.732051  3.0\n",
      "\n",
      " sum of each column:\n",
      " S    12\n",
      "R    36\n",
      "dtype: int64\n",
      "\n",
      " sum of each row:\n",
      " 0    12\n",
      "1    12\n",
      "2    12\n",
      "3    12\n",
      "dtype: int64\n"
     ]
    }
   ],
   "source": [
    "import pandas as pd\n",
    "import numpy as np\n",
    "info=pd.DataFrame([[3,9]]*4,columns=['S','R'])\n",
    "print(\"\\n Original DataFrame:\\n\",info)\n",
    "print(\"\\n square root:\\n\",info.apply(np.sqrt))\n",
    "print(\"\\n sum of each column:\\n\",info.apply(np.sum,axis=0))\n",
    "print(\"\\n sum of each row:\\n\",info.apply(np.sum,axis=1))"
   ]
  },
  {
   "cell_type": "code",
   "execution_count": 2,
   "id": "a1941fb6",
   "metadata": {},
   "outputs": [
    {
     "name": "stdout",
     "output_type": "stream",
     "text": [
      "   X  Y  Z\n",
      "0  2  4  6\n",
      "1  1  3  5\n",
      "2  5  8  7\n",
      "     X  Y  Z\n",
      "min  1  3  5\n",
      "max  5  8  7\n"
     ]
    }
   ],
   "source": [
    "#for 3d\n",
    "import pandas as pd\n",
    "import numpy as np\n",
    "info=pd.DataFrame([[2,4,6],[1,3,5],[5,8,7]],columns=['X','Y','Z'])\n",
    "print(info)\n",
    "print(info.agg(['min','max']))"
   ]
  },
  {
   "cell_type": "code",
   "execution_count": 3,
   "id": "2fedd488",
   "metadata": {},
   "outputs": [
    {
     "name": "stdout",
     "output_type": "stream",
     "text": [
      "  EmpName  ID\n",
      "0     sai  88\n",
      "1     mad  70\n",
      "Adding new column:\n",
      "   EmpName  ID  Age\n",
      "0     sai  88   20\n",
      "1     mad  70   18\n",
      "Adding new column:\n",
      "   EmpName  ID  Age   Sex\n",
      "0     sai  88   20  male\n",
      "1     mad  70   18  male\n"
     ]
    }
   ],
   "source": [
    "import pandas as pd\n",
    "import numpy as np\n",
    "md=pd.DataFrame([['sai',88],['mad',70]],columns=['EmpName','ID'])\n",
    "print(md)\n",
    "md['Age']=[20,18]\n",
    "print(\"Adding new column:\\n\",md)\n",
    "md['Sex']=['male','male']\n",
    "print(\"Adding new column:\\n\",md)"
   ]
  },
  {
   "cell_type": "code",
   "execution_count": 4,
   "id": "1417792a",
   "metadata": {},
   "outputs": [
    {
     "name": "stdout",
     "output_type": "stream",
     "text": [
      "  EmpName  ID  Age   Sex\n",
      "0     sai  88   20  male\n",
      "1     mad  70   18  male\n"
     ]
    }
   ],
   "source": [
    "#another method\n",
    "m=md.assign(Age=[20,18])\n",
    "print(m)"
   ]
  },
  {
   "cell_type": "code",
   "execution_count": 5,
   "id": "f170a314",
   "metadata": {},
   "outputs": [
    {
     "name": "stdout",
     "output_type": "stream",
     "text": [
      "  EmpName  ID\n",
      "0     sai  88\n",
      "1     mad  70\n",
      "  EmpName  ID  Age\n",
      "0     sai  88   20\n",
      "1     mad  70   18\n"
     ]
    }
   ],
   "source": [
    "import pandas as pd\n",
    "import numpy as np\n",
    "md=pd.DataFrame([['sai',88],['mad',70]],columns=['EmpName','ID'])\n",
    "print(md)\n",
    "m=md.assign(Age=[20,18])\n",
    "print(m)"
   ]
  },
  {
   "cell_type": "code",
   "execution_count": 7,
   "id": "3a5a5c18",
   "metadata": {},
   "outputs": [
    {
     "name": "stdout",
     "output_type": "stream",
     "text": [
      "       col3      col4\n",
      "3 -0.701431  2.041795\n",
      "2 -0.879244 -0.582540\n",
      "0 -0.330450  0.429756\n",
      "4 -1.960188 -2.603195\n",
      "1 -0.684053  0.724462\n",
      "       col3      col4\n",
      "0 -0.330450  0.429756\n",
      "1 -0.684053  0.724462\n",
      "2 -0.879244 -0.582540\n",
      "3 -0.701431  2.041795\n",
      "4 -1.960188 -2.603195\n",
      "       col3      col4\n",
      "4 -1.960188 -2.603195\n",
      "2 -0.879244 -0.582540\n",
      "3 -0.701431  2.041795\n",
      "1 -0.684053  0.724462\n",
      "0 -0.330450  0.429756\n"
     ]
    }
   ],
   "source": [
    "#to print random values\n",
    "import pandas as pd\n",
    "info=pd.DataFrame(np.random.randn(5,2),index=[3,2,0,4,1],columns=['col3','col4'])\n",
    "print(info)\n",
    "info2=info.sort_index()\n",
    "print(info2)\n",
    "info3=info.sort_values(by='col3')\n",
    "print(info3)"
   ]
  },
  {
   "cell_type": "code",
   "execution_count": 8,
   "id": "eccd4c3f",
   "metadata": {},
   "outputs": [
    {
     "name": "stdout",
     "output_type": "stream",
     "text": [
      "       col3      col4\n",
      "4 -1.960188 -2.603195\n",
      "2 -0.879244 -0.582540\n",
      "0 -0.330450  0.429756\n",
      "1 -0.684053  0.724462\n",
      "3 -0.701431  2.041795\n"
     ]
    }
   ],
   "source": [
    "info4=info.sort_values(by='col4')\n",
    "print(info4)"
   ]
  },
  {
   "cell_type": "code",
   "execution_count": 1,
   "id": "01800762",
   "metadata": {},
   "outputs": [
    {
     "name": "stdout",
     "output_type": "stream",
     "text": [
      "   ID  Name   Sub\n",
      "0   1   Sai  sub1\n",
      "1   2   Poo  sub2\n",
      "2   3  Saba  sub4\n",
      "3   4  Yuvi  sub3\n",
      "   ID    Name   Sub\n",
      "0   1  Sanjay  sub2\n",
      "1   2   Saran  sub4\n",
      "2   3     Sam  sub3\n",
      "3   4    Ruba  sub5\n",
      "   ID Name_x Sub_x  Name_y Sub_y\n",
      "0   1    Sai  sub1  Sanjay  sub2\n",
      "1   2    Poo  sub2   Saran  sub4\n",
      "2   3   Saba  sub4     Sam  sub3\n",
      "3   4   Yuvi  sub3    Ruba  sub5\n"
     ]
    }
   ],
   "source": [
    "import pandas as pd\n",
    "import numpy as np\n",
    "left=pd.DataFrame({'ID':[1,2,3,4],'Name':['Sai','Poo','Saba','Yuvi'],'Sub':['sub1','sub2','sub4','sub3']})\n",
    "right=pd.DataFrame({'ID':[1,2,3,4],'Name':['Sanjay','Saran','Sam','Ruba'],'Sub':['sub2','sub4','sub3','sub5']})\n",
    "print(left)\n",
    "print(right)\n",
    "print(pd.merge(left,right,on=\"ID\"))"
   ]
  },
  {
   "cell_type": "code",
   "execution_count": null,
   "id": "a5040e4b",
   "metadata": {},
   "outputs": [],
   "source": [
    "  "
   ]
  }
 ],
 "metadata": {
  "kernelspec": {
   "display_name": "Python 3 (ipykernel)",
   "language": "python",
   "name": "python3"
  },
  "language_info": {
   "codemirror_mode": {
    "name": "ipython",
    "version": 3
   },
   "file_extension": ".py",
   "mimetype": "text/x-python",
   "name": "python",
   "nbconvert_exporter": "python",
   "pygments_lexer": "ipython3",
   "version": "3.11.5"
  }
 },
 "nbformat": 4,
 "nbformat_minor": 5
}
